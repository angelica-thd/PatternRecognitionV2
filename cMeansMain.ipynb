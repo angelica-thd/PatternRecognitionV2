{
 "cells": [
  {
   "cell_type": "code",
   "execution_count": 1,
   "metadata": {},
   "outputs": [],
   "source": [
    "from sklearn.model_selection import KFold\n",
    "from data import fetchData\n",
    "from betCompany import betCompany\n",
    "from cMeans import cMeans\n",
    "\n",
    "B365data, BWdata, IWdata, LBdata, TeamAttributesData = fetchData()\n",
    "# Initializing betting companies\n",
    "betCompanies = [betCompany(\"B365\"), betCompany(\"BW\"), betCompany(\"IW\"), betCompany(\"LB\")]\n",
    "\n",
    "# Data dictionary\n",
    "data = {\"B365\": B365data, \"BW\": BWdata, \"IW\": IWdata, \"LB\": LBdata}\n",
    "\n",
    "# Initializing Kfold for 10fold\n",
    "kf = KFold(n_splits=10)\n",
    "\n"
   ]
  },
  {
   "cell_type": "code",
   "execution_count": 6,
   "metadata": {},
   "outputs": [
    {
     "name": "stdout",
     "output_type": "stream",
     "text": [
      "\n",
      "\n",
      " _______________K_MEANS_CLUSTERING_______________ \n",
      "\n"
     ]
    },
    {
     "ename": "TypeError",
     "evalue": "'cMeans' object is not callable",
     "output_type": "error",
     "traceback": [
      "\u001b[0;31m---------------------------------------------------------------------------\u001b[0m",
      "\u001b[0;31mTypeError\u001b[0m                                 Traceback (most recent call last)",
      "\u001b[1;32m/home/angelica-dev/Code/MSc/PatternRecognitionV2/cMeansMain.ipynb Cell 2'\u001b[0m in \u001b[0;36m<cell line: 4>\u001b[0;34m()\u001b[0m\n\u001b[1;32m      <a href='vscode-notebook-cell:/home/angelica-dev/Code/MSc/PatternRecognitionV2/cMeansMain.ipynb#ch0000001?line=5'>6</a>\u001b[0m averageAccuracy \u001b[39m=\u001b[39m \u001b[39m0\u001b[39m\n\u001b[1;32m      <a href='vscode-notebook-cell:/home/angelica-dev/Code/MSc/PatternRecognitionV2/cMeansMain.ipynb#ch0000001?line=6'>7</a>\u001b[0m \u001b[39mfor\u001b[39;00m company \u001b[39min\u001b[39;00m kf\u001b[39m.\u001b[39msplit(data[bc\u001b[39m.\u001b[39mname]):        \n\u001b[1;32m      <a href='vscode-notebook-cell:/home/angelica-dev/Code/MSc/PatternRecognitionV2/cMeansMain.ipynb#ch0000001?line=7'>8</a>\u001b[0m     \u001b[39m# Changing training and testing sets\u001b[39;00m\n\u001b[0;32m---> <a href='vscode-notebook-cell:/home/angelica-dev/Code/MSc/PatternRecognitionV2/cMeansMain.ipynb#ch0000001?line=9'>10</a>\u001b[0m     cMeans()\u001b[39m.\u001b[39mcluster(cMeans()\u001b[39m.\u001b[39mprepareData(data[bc\u001b[39m.\u001b[39mname]))\n",
      "\u001b[0;31mTypeError\u001b[0m: 'cMeans' object is not callable"
     ]
    }
   ],
   "source": [
    "#K means clustering: TASK 4\n",
    "print('\\n\\n', 15 * '_' + 'K_MEANS_CLUSTERING' + 15 *'_', '\\n')\n",
    "\n",
    "for bc in betCompanies:\n",
    "    iteration = 1\n",
    "    averageAccuracy = 0\n",
    "    for company in kf.split(data[bc.name]):        \n",
    "        # Changing training and testing sets\n",
    "        \n",
    "        cMeans.cluster(cMeans.prepareData(data[bc.name]))\n"
   ]
  }
 ],
 "metadata": {
  "interpreter": {
   "hash": "a3ab52ba3222bf42a835826867c965127fca4f37d959efa5ac3d81a3eb77ef8e"
  },
  "kernelspec": {
   "display_name": "Python 3.8.10 ('venv': venv)",
   "language": "python",
   "name": "python3"
  },
  "language_info": {
   "codemirror_mode": {
    "name": "ipython",
    "version": 3
   },
   "file_extension": ".py",
   "mimetype": "text/x-python",
   "name": "python",
   "nbconvert_exporter": "python",
   "pygments_lexer": "ipython3",
   "version": "3.8.10"
  },
  "orig_nbformat": 4
 },
 "nbformat": 4,
 "nbformat_minor": 2
}
